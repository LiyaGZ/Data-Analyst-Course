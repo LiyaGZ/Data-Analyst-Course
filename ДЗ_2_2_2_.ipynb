{
  "nbformat": 4,
  "nbformat_minor": 5,
  "metadata": {
    "kernelspec": {
      "display_name": "Python 3",
      "language": "python",
      "name": "python3"
    },
    "language_info": {
      "codemirror_mode": {
        "name": "ipython",
        "version": 3
      },
      "file_extension": ".py",
      "mimetype": "text/x-python",
      "name": "python",
      "nbconvert_exporter": "python",
      "pygments_lexer": "ipython3",
      "version": "3.8.8"
    },
    "colab": {
      "name": "ДЗ 2.2.2..ipynb",
      "provenance": [],
      "collapsed_sections": []
    }
  },
  "cells": [
    {
      "cell_type": "code",
      "metadata": {
        "id": "4c18ca80"
      },
      "source": [
        "# импортируем библиотеку Numpy"
      ],
      "id": "4c18ca80",
      "execution_count": 15,
      "outputs": []
    },
    {
      "cell_type": "code",
      "metadata": {
        "id": "5c0d2ba7"
      },
      "source": [
        "import numpy as np"
      ],
      "id": "5c0d2ba7",
      "execution_count": 16,
      "outputs": []
    },
    {
      "cell_type": "code",
      "metadata": {
        "id": "79605081"
      },
      "source": [
        "# загружаем датасет Iris"
      ],
      "id": "79605081",
      "execution_count": 17,
      "outputs": []
    },
    {
      "cell_type": "code",
      "metadata": {
        "id": "952bd5f2"
      },
      "source": [
        "url = 'https://archive.ics.uci.edu/ml/machine-learning-databases/iris/iris.data'\n",
        "species = np.genfromtxt(url, delimiter=',', dtype='str', usecols=4)\n"
      ],
      "id": "952bd5f2",
      "execution_count": 18,
      "outputs": []
    },
    {
      "cell_type": "code",
      "metadata": {
        "id": "60c3a306"
      },
      "source": [
        "# присваиваем категориям численные значения"
      ],
      "id": "60c3a306",
      "execution_count": 19,
      "outputs": []
    },
    {
      "cell_type": "code",
      "metadata": {
        "id": "fbf71c46",
        "colab": {
          "base_uri": "https://localhost:8080/"
        },
        "outputId": "aaa1ae33-0a79-4dbc-bdfb-2098099310a3"
      },
      "source": [
        "uniqs = np.unique(species)\n",
        "uniqs"
      ],
      "id": "fbf71c46",
      "execution_count": 20,
      "outputs": [
        {
          "output_type": "execute_result",
          "data": {
            "text/plain": [
              "array(['Iris-setosa', 'Iris-versicolor', 'Iris-virginica'], dtype='<U15')"
            ]
          },
          "metadata": {},
          "execution_count": 20
        }
      ]
    },
    {
      "cell_type": "code",
      "metadata": {
        "id": "0435440f"
      },
      "source": [
        "species_cat = species"
      ],
      "id": "0435440f",
      "execution_count": 21,
      "outputs": []
    },
    {
      "cell_type": "code",
      "metadata": {
        "id": "f50f4015",
        "colab": {
          "base_uri": "https://localhost:8080/"
        },
        "outputId": "f03b116d-0593-4740-9718-7cdae05e2534"
      },
      "source": [
        "out = []\n",
        "for val in uniqs:\n",
        "    for s in species_cat[species_cat == val]:\n",
        "        group_id = np.argwhere(uniqs == s).tolist()[0][0]\n",
        "        out.append(group_id)\n",
        "print(out)"
      ],
      "id": "f50f4015",
      "execution_count": 22,
      "outputs": [
        {
          "output_type": "stream",
          "name": "stdout",
          "text": [
            "[0, 0, 0, 0, 0, 0, 0, 0, 0, 0, 0, 0, 0, 0, 0, 0, 0, 0, 0, 0, 0, 0, 0, 0, 0, 0, 0, 0, 0, 0, 0, 0, 0, 0, 0, 0, 0, 0, 0, 0, 0, 0, 0, 0, 0, 0, 0, 0, 0, 0, 1, 1, 1, 1, 1, 1, 1, 1, 1, 1, 1, 1, 1, 1, 1, 1, 1, 1, 1, 1, 1, 1, 1, 1, 1, 1, 1, 1, 1, 1, 1, 1, 1, 1, 1, 1, 1, 1, 1, 1, 1, 1, 1, 1, 1, 1, 1, 1, 1, 1, 2, 2, 2, 2, 2, 2, 2, 2, 2, 2, 2, 2, 2, 2, 2, 2, 2, 2, 2, 2, 2, 2, 2, 2, 2, 2, 2, 2, 2, 2, 2, 2, 2, 2, 2, 2, 2, 2, 2, 2, 2, 2, 2, 2, 2, 2, 2, 2, 2, 2]\n"
          ]
        }
      ]
    },
    {
      "cell_type": "code",
      "metadata": {
        "id": "8ed5df40"
      },
      "source": [
        "# добавляем столбец с численными значениями категорий в таблицу"
      ],
      "id": "8ed5df40",
      "execution_count": 23,
      "outputs": []
    },
    {
      "cell_type": "code",
      "metadata": {
        "id": "adc72e99"
      },
      "source": [
        "d = np.genfromtxt(url, delimiter=',', dtype='str')"
      ],
      "id": "adc72e99",
      "execution_count": 24,
      "outputs": []
    },
    {
      "cell_type": "code",
      "metadata": {
        "id": "f41d66b3"
      },
      "source": [
        "arr1 = np.array(out)\n",
        "arr1 = arr1.reshape((150,1))"
      ],
      "id": "f41d66b3",
      "execution_count": 25,
      "outputs": []
    },
    {
      "cell_type": "code",
      "metadata": {
        "id": "5a5c8091",
        "colab": {
          "base_uri": "https://localhost:8080/"
        },
        "outputId": "f7872369-18e5-429f-a201-70ac6d985578"
      },
      "source": [
        "tabl = np.concatenate((d, arr1), axis = 1)\n",
        "tabl"
      ],
      "id": "5a5c8091",
      "execution_count": 26,
      "outputs": [
        {
          "output_type": "execute_result",
          "data": {
            "text/plain": [
              "array([['5.1', '3.5', '1.4', '0.2', 'Iris-setosa', '0'],\n",
              "       ['4.9', '3.0', '1.4', '0.2', 'Iris-setosa', '0'],\n",
              "       ['4.7', '3.2', '1.3', '0.2', 'Iris-setosa', '0'],\n",
              "       ['4.6', '3.1', '1.5', '0.2', 'Iris-setosa', '0'],\n",
              "       ['5.0', '3.6', '1.4', '0.2', 'Iris-setosa', '0'],\n",
              "       ['5.4', '3.9', '1.7', '0.4', 'Iris-setosa', '0'],\n",
              "       ['4.6', '3.4', '1.4', '0.3', 'Iris-setosa', '0'],\n",
              "       ['5.0', '3.4', '1.5', '0.2', 'Iris-setosa', '0'],\n",
              "       ['4.4', '2.9', '1.4', '0.2', 'Iris-setosa', '0'],\n",
              "       ['4.9', '3.1', '1.5', '0.1', 'Iris-setosa', '0'],\n",
              "       ['5.4', '3.7', '1.5', '0.2', 'Iris-setosa', '0'],\n",
              "       ['4.8', '3.4', '1.6', '0.2', 'Iris-setosa', '0'],\n",
              "       ['4.8', '3.0', '1.4', '0.1', 'Iris-setosa', '0'],\n",
              "       ['4.3', '3.0', '1.1', '0.1', 'Iris-setosa', '0'],\n",
              "       ['5.8', '4.0', '1.2', '0.2', 'Iris-setosa', '0'],\n",
              "       ['5.7', '4.4', '1.5', '0.4', 'Iris-setosa', '0'],\n",
              "       ['5.4', '3.9', '1.3', '0.4', 'Iris-setosa', '0'],\n",
              "       ['5.1', '3.5', '1.4', '0.3', 'Iris-setosa', '0'],\n",
              "       ['5.7', '3.8', '1.7', '0.3', 'Iris-setosa', '0'],\n",
              "       ['5.1', '3.8', '1.5', '0.3', 'Iris-setosa', '0'],\n",
              "       ['5.4', '3.4', '1.7', '0.2', 'Iris-setosa', '0'],\n",
              "       ['5.1', '3.7', '1.5', '0.4', 'Iris-setosa', '0'],\n",
              "       ['4.6', '3.6', '1.0', '0.2', 'Iris-setosa', '0'],\n",
              "       ['5.1', '3.3', '1.7', '0.5', 'Iris-setosa', '0'],\n",
              "       ['4.8', '3.4', '1.9', '0.2', 'Iris-setosa', '0'],\n",
              "       ['5.0', '3.0', '1.6', '0.2', 'Iris-setosa', '0'],\n",
              "       ['5.0', '3.4', '1.6', '0.4', 'Iris-setosa', '0'],\n",
              "       ['5.2', '3.5', '1.5', '0.2', 'Iris-setosa', '0'],\n",
              "       ['5.2', '3.4', '1.4', '0.2', 'Iris-setosa', '0'],\n",
              "       ['4.7', '3.2', '1.6', '0.2', 'Iris-setosa', '0'],\n",
              "       ['4.8', '3.1', '1.6', '0.2', 'Iris-setosa', '0'],\n",
              "       ['5.4', '3.4', '1.5', '0.4', 'Iris-setosa', '0'],\n",
              "       ['5.2', '4.1', '1.5', '0.1', 'Iris-setosa', '0'],\n",
              "       ['5.5', '4.2', '1.4', '0.2', 'Iris-setosa', '0'],\n",
              "       ['4.9', '3.1', '1.5', '0.1', 'Iris-setosa', '0'],\n",
              "       ['5.0', '3.2', '1.2', '0.2', 'Iris-setosa', '0'],\n",
              "       ['5.5', '3.5', '1.3', '0.2', 'Iris-setosa', '0'],\n",
              "       ['4.9', '3.1', '1.5', '0.1', 'Iris-setosa', '0'],\n",
              "       ['4.4', '3.0', '1.3', '0.2', 'Iris-setosa', '0'],\n",
              "       ['5.1', '3.4', '1.5', '0.2', 'Iris-setosa', '0'],\n",
              "       ['5.0', '3.5', '1.3', '0.3', 'Iris-setosa', '0'],\n",
              "       ['4.5', '2.3', '1.3', '0.3', 'Iris-setosa', '0'],\n",
              "       ['4.4', '3.2', '1.3', '0.2', 'Iris-setosa', '0'],\n",
              "       ['5.0', '3.5', '1.6', '0.6', 'Iris-setosa', '0'],\n",
              "       ['5.1', '3.8', '1.9', '0.4', 'Iris-setosa', '0'],\n",
              "       ['4.8', '3.0', '1.4', '0.3', 'Iris-setosa', '0'],\n",
              "       ['5.1', '3.8', '1.6', '0.2', 'Iris-setosa', '0'],\n",
              "       ['4.6', '3.2', '1.4', '0.2', 'Iris-setosa', '0'],\n",
              "       ['5.3', '3.7', '1.5', '0.2', 'Iris-setosa', '0'],\n",
              "       ['5.0', '3.3', '1.4', '0.2', 'Iris-setosa', '0'],\n",
              "       ['7.0', '3.2', '4.7', '1.4', 'Iris-versicolor', '1'],\n",
              "       ['6.4', '3.2', '4.5', '1.5', 'Iris-versicolor', '1'],\n",
              "       ['6.9', '3.1', '4.9', '1.5', 'Iris-versicolor', '1'],\n",
              "       ['5.5', '2.3', '4.0', '1.3', 'Iris-versicolor', '1'],\n",
              "       ['6.5', '2.8', '4.6', '1.5', 'Iris-versicolor', '1'],\n",
              "       ['5.7', '2.8', '4.5', '1.3', 'Iris-versicolor', '1'],\n",
              "       ['6.3', '3.3', '4.7', '1.6', 'Iris-versicolor', '1'],\n",
              "       ['4.9', '2.4', '3.3', '1.0', 'Iris-versicolor', '1'],\n",
              "       ['6.6', '2.9', '4.6', '1.3', 'Iris-versicolor', '1'],\n",
              "       ['5.2', '2.7', '3.9', '1.4', 'Iris-versicolor', '1'],\n",
              "       ['5.0', '2.0', '3.5', '1.0', 'Iris-versicolor', '1'],\n",
              "       ['5.9', '3.0', '4.2', '1.5', 'Iris-versicolor', '1'],\n",
              "       ['6.0', '2.2', '4.0', '1.0', 'Iris-versicolor', '1'],\n",
              "       ['6.1', '2.9', '4.7', '1.4', 'Iris-versicolor', '1'],\n",
              "       ['5.6', '2.9', '3.6', '1.3', 'Iris-versicolor', '1'],\n",
              "       ['6.7', '3.1', '4.4', '1.4', 'Iris-versicolor', '1'],\n",
              "       ['5.6', '3.0', '4.5', '1.5', 'Iris-versicolor', '1'],\n",
              "       ['5.8', '2.7', '4.1', '1.0', 'Iris-versicolor', '1'],\n",
              "       ['6.2', '2.2', '4.5', '1.5', 'Iris-versicolor', '1'],\n",
              "       ['5.6', '2.5', '3.9', '1.1', 'Iris-versicolor', '1'],\n",
              "       ['5.9', '3.2', '4.8', '1.8', 'Iris-versicolor', '1'],\n",
              "       ['6.1', '2.8', '4.0', '1.3', 'Iris-versicolor', '1'],\n",
              "       ['6.3', '2.5', '4.9', '1.5', 'Iris-versicolor', '1'],\n",
              "       ['6.1', '2.8', '4.7', '1.2', 'Iris-versicolor', '1'],\n",
              "       ['6.4', '2.9', '4.3', '1.3', 'Iris-versicolor', '1'],\n",
              "       ['6.6', '3.0', '4.4', '1.4', 'Iris-versicolor', '1'],\n",
              "       ['6.8', '2.8', '4.8', '1.4', 'Iris-versicolor', '1'],\n",
              "       ['6.7', '3.0', '5.0', '1.7', 'Iris-versicolor', '1'],\n",
              "       ['6.0', '2.9', '4.5', '1.5', 'Iris-versicolor', '1'],\n",
              "       ['5.7', '2.6', '3.5', '1.0', 'Iris-versicolor', '1'],\n",
              "       ['5.5', '2.4', '3.8', '1.1', 'Iris-versicolor', '1'],\n",
              "       ['5.5', '2.4', '3.7', '1.0', 'Iris-versicolor', '1'],\n",
              "       ['5.8', '2.7', '3.9', '1.2', 'Iris-versicolor', '1'],\n",
              "       ['6.0', '2.7', '5.1', '1.6', 'Iris-versicolor', '1'],\n",
              "       ['5.4', '3.0', '4.5', '1.5', 'Iris-versicolor', '1'],\n",
              "       ['6.0', '3.4', '4.5', '1.6', 'Iris-versicolor', '1'],\n",
              "       ['6.7', '3.1', '4.7', '1.5', 'Iris-versicolor', '1'],\n",
              "       ['6.3', '2.3', '4.4', '1.3', 'Iris-versicolor', '1'],\n",
              "       ['5.6', '3.0', '4.1', '1.3', 'Iris-versicolor', '1'],\n",
              "       ['5.5', '2.5', '4.0', '1.3', 'Iris-versicolor', '1'],\n",
              "       ['5.5', '2.6', '4.4', '1.2', 'Iris-versicolor', '1'],\n",
              "       ['6.1', '3.0', '4.6', '1.4', 'Iris-versicolor', '1'],\n",
              "       ['5.8', '2.6', '4.0', '1.2', 'Iris-versicolor', '1'],\n",
              "       ['5.0', '2.3', '3.3', '1.0', 'Iris-versicolor', '1'],\n",
              "       ['5.6', '2.7', '4.2', '1.3', 'Iris-versicolor', '1'],\n",
              "       ['5.7', '3.0', '4.2', '1.2', 'Iris-versicolor', '1'],\n",
              "       ['5.7', '2.9', '4.2', '1.3', 'Iris-versicolor', '1'],\n",
              "       ['6.2', '2.9', '4.3', '1.3', 'Iris-versicolor', '1'],\n",
              "       ['5.1', '2.5', '3.0', '1.1', 'Iris-versicolor', '1'],\n",
              "       ['5.7', '2.8', '4.1', '1.3', 'Iris-versicolor', '1'],\n",
              "       ['6.3', '3.3', '6.0', '2.5', 'Iris-virginica', '2'],\n",
              "       ['5.8', '2.7', '5.1', '1.9', 'Iris-virginica', '2'],\n",
              "       ['7.1', '3.0', '5.9', '2.1', 'Iris-virginica', '2'],\n",
              "       ['6.3', '2.9', '5.6', '1.8', 'Iris-virginica', '2'],\n",
              "       ['6.5', '3.0', '5.8', '2.2', 'Iris-virginica', '2'],\n",
              "       ['7.6', '3.0', '6.6', '2.1', 'Iris-virginica', '2'],\n",
              "       ['4.9', '2.5', '4.5', '1.7', 'Iris-virginica', '2'],\n",
              "       ['7.3', '2.9', '6.3', '1.8', 'Iris-virginica', '2'],\n",
              "       ['6.7', '2.5', '5.8', '1.8', 'Iris-virginica', '2'],\n",
              "       ['7.2', '3.6', '6.1', '2.5', 'Iris-virginica', '2'],\n",
              "       ['6.5', '3.2', '5.1', '2.0', 'Iris-virginica', '2'],\n",
              "       ['6.4', '2.7', '5.3', '1.9', 'Iris-virginica', '2'],\n",
              "       ['6.8', '3.0', '5.5', '2.1', 'Iris-virginica', '2'],\n",
              "       ['5.7', '2.5', '5.0', '2.0', 'Iris-virginica', '2'],\n",
              "       ['5.8', '2.8', '5.1', '2.4', 'Iris-virginica', '2'],\n",
              "       ['6.4', '3.2', '5.3', '2.3', 'Iris-virginica', '2'],\n",
              "       ['6.5', '3.0', '5.5', '1.8', 'Iris-virginica', '2'],\n",
              "       ['7.7', '3.8', '6.7', '2.2', 'Iris-virginica', '2'],\n",
              "       ['7.7', '2.6', '6.9', '2.3', 'Iris-virginica', '2'],\n",
              "       ['6.0', '2.2', '5.0', '1.5', 'Iris-virginica', '2'],\n",
              "       ['6.9', '3.2', '5.7', '2.3', 'Iris-virginica', '2'],\n",
              "       ['5.6', '2.8', '4.9', '2.0', 'Iris-virginica', '2'],\n",
              "       ['7.7', '2.8', '6.7', '2.0', 'Iris-virginica', '2'],\n",
              "       ['6.3', '2.7', '4.9', '1.8', 'Iris-virginica', '2'],\n",
              "       ['6.7', '3.3', '5.7', '2.1', 'Iris-virginica', '2'],\n",
              "       ['7.2', '3.2', '6.0', '1.8', 'Iris-virginica', '2'],\n",
              "       ['6.2', '2.8', '4.8', '1.8', 'Iris-virginica', '2'],\n",
              "       ['6.1', '3.0', '4.9', '1.8', 'Iris-virginica', '2'],\n",
              "       ['6.4', '2.8', '5.6', '2.1', 'Iris-virginica', '2'],\n",
              "       ['7.2', '3.0', '5.8', '1.6', 'Iris-virginica', '2'],\n",
              "       ['7.4', '2.8', '6.1', '1.9', 'Iris-virginica', '2'],\n",
              "       ['7.9', '3.8', '6.4', '2.0', 'Iris-virginica', '2'],\n",
              "       ['6.4', '2.8', '5.6', '2.2', 'Iris-virginica', '2'],\n",
              "       ['6.3', '2.8', '5.1', '1.5', 'Iris-virginica', '2'],\n",
              "       ['6.1', '2.6', '5.6', '1.4', 'Iris-virginica', '2'],\n",
              "       ['7.7', '3.0', '6.1', '2.3', 'Iris-virginica', '2'],\n",
              "       ['6.3', '3.4', '5.6', '2.4', 'Iris-virginica', '2'],\n",
              "       ['6.4', '3.1', '5.5', '1.8', 'Iris-virginica', '2'],\n",
              "       ['6.0', '3.0', '4.8', '1.8', 'Iris-virginica', '2'],\n",
              "       ['6.9', '3.1', '5.4', '2.1', 'Iris-virginica', '2'],\n",
              "       ['6.7', '3.1', '5.6', '2.4', 'Iris-virginica', '2'],\n",
              "       ['6.9', '3.1', '5.1', '2.3', 'Iris-virginica', '2'],\n",
              "       ['5.8', '2.7', '5.1', '1.9', 'Iris-virginica', '2'],\n",
              "       ['6.8', '3.2', '5.9', '2.3', 'Iris-virginica', '2'],\n",
              "       ['6.7', '3.3', '5.7', '2.5', 'Iris-virginica', '2'],\n",
              "       ['6.7', '3.0', '5.2', '2.3', 'Iris-virginica', '2'],\n",
              "       ['6.3', '2.5', '5.0', '1.9', 'Iris-virginica', '2'],\n",
              "       ['6.5', '3.0', '5.2', '2.0', 'Iris-virginica', '2'],\n",
              "       ['6.2', '3.4', '5.4', '2.3', 'Iris-virginica', '2'],\n",
              "       ['5.9', '3.0', '5.1', '1.8', 'Iris-virginica', '2']], dtype='<U21')"
            ]
          },
          "metadata": {},
          "execution_count": 26
        }
      ]
    },
    {
      "cell_type": "code",
      "metadata": {
        "id": "ec3bf633"
      },
      "source": [
        "# вычисляем min, max, median, mean, 0.25-percentile,0.75-percentile для каждого из числовых атрибутов в датасете"
      ],
      "id": "ec3bf633",
      "execution_count": 27,
      "outputs": []
    },
    {
      "cell_type": "code",
      "metadata": {
        "id": "04262c08"
      },
      "source": [
        "# находим минимум"
      ],
      "id": "04262c08",
      "execution_count": 28,
      "outputs": []
    },
    {
      "cell_type": "code",
      "metadata": {
        "id": "971b5ad0",
        "colab": {
          "base_uri": "https://localhost:8080/"
        },
        "outputId": "0b63768e-03c5-4559-8a79-21ec908dffda"
      },
      "source": [
        "atr = tabl[:,0:4].astype('float')\n",
        "atr.min(axis = 0)"
      ],
      "id": "971b5ad0",
      "execution_count": 29,
      "outputs": [
        {
          "output_type": "execute_result",
          "data": {
            "text/plain": [
              "array([4.3, 2. , 1. , 0.1])"
            ]
          },
          "metadata": {},
          "execution_count": 29
        }
      ]
    },
    {
      "cell_type": "code",
      "metadata": {
        "id": "a1d99b56"
      },
      "source": [
        "# находим максимум"
      ],
      "id": "a1d99b56",
      "execution_count": 30,
      "outputs": []
    },
    {
      "cell_type": "code",
      "metadata": {
        "id": "ffe74cdf",
        "colab": {
          "base_uri": "https://localhost:8080/"
        },
        "outputId": "b6d65d73-8eed-4215-8a7c-4a1b992b2de7"
      },
      "source": [
        "atr.max(axis = 0)"
      ],
      "id": "ffe74cdf",
      "execution_count": 31,
      "outputs": [
        {
          "output_type": "execute_result",
          "data": {
            "text/plain": [
              "array([7.9, 4.4, 6.9, 2.5])"
            ]
          },
          "metadata": {},
          "execution_count": 31
        }
      ]
    },
    {
      "cell_type": "code",
      "metadata": {
        "id": "9db7787f"
      },
      "source": [
        "# находим среднее"
      ],
      "id": "9db7787f",
      "execution_count": 32,
      "outputs": []
    },
    {
      "cell_type": "code",
      "metadata": {
        "id": "76026dc6",
        "colab": {
          "base_uri": "https://localhost:8080/"
        },
        "outputId": "90a27194-4863-4801-f7fb-765ce7160386"
      },
      "source": [
        "atr.mean(axis = 0)"
      ],
      "id": "76026dc6",
      "execution_count": 33,
      "outputs": [
        {
          "output_type": "execute_result",
          "data": {
            "text/plain": [
              "array([5.84333333, 3.054     , 3.75866667, 1.19866667])"
            ]
          },
          "metadata": {},
          "execution_count": 33
        }
      ]
    },
    {
      "cell_type": "code",
      "metadata": {
        "id": "d1cd3223"
      },
      "source": [
        "# находим 0.25-percentile"
      ],
      "id": "d1cd3223",
      "execution_count": 34,
      "outputs": []
    },
    {
      "cell_type": "code",
      "metadata": {
        "id": "6f9e569c",
        "colab": {
          "base_uri": "https://localhost:8080/"
        },
        "outputId": "317af49a-2bf0-439b-8789-f1264eb5f998"
      },
      "source": [
        "np.percentile(atr, 25, axis = 0)"
      ],
      "id": "6f9e569c",
      "execution_count": 35,
      "outputs": [
        {
          "output_type": "execute_result",
          "data": {
            "text/plain": [
              "array([5.1, 2.8, 1.6, 0.3])"
            ]
          },
          "metadata": {},
          "execution_count": 35
        }
      ]
    },
    {
      "cell_type": "code",
      "metadata": {
        "id": "db6acc2e"
      },
      "source": [
        "# находим 0.75-percentile"
      ],
      "id": "db6acc2e",
      "execution_count": 36,
      "outputs": []
    },
    {
      "cell_type": "code",
      "metadata": {
        "id": "73b49084",
        "colab": {
          "base_uri": "https://localhost:8080/"
        },
        "outputId": "2a7fa31b-37c4-42dc-8f9e-8dab7f3b31ce"
      },
      "source": [
        "np.percentile(atr, 75, axis = 0)"
      ],
      "id": "73b49084",
      "execution_count": 37,
      "outputs": [
        {
          "output_type": "execute_result",
          "data": {
            "text/plain": [
              "array([6.4, 3.3, 5.1, 1.8])"
            ]
          },
          "metadata": {},
          "execution_count": 37
        }
      ]
    },
    {
      "cell_type": "code",
      "metadata": {
        "id": "128be98f"
      },
      "source": [
        "# импортируем библиотеку Matplotlib"
      ],
      "id": "128be98f",
      "execution_count": 38,
      "outputs": []
    },
    {
      "cell_type": "code",
      "metadata": {
        "id": "c2630bc6"
      },
      "source": [
        "import matplotlib.pyplot as plt"
      ],
      "id": "c2630bc6",
      "execution_count": 39,
      "outputs": []
    },
    {
      "cell_type": "code",
      "metadata": {
        "id": "1f7ac202"
      },
      "source": [
        "# инициализируем каждый числовой атрибут в датасете"
      ],
      "id": "1f7ac202",
      "execution_count": 40,
      "outputs": []
    },
    {
      "cell_type": "code",
      "metadata": {
        "id": "1ASP055KhpmD"
      },
      "source": [
        "atr1 = tabl[:,0].astype('float');\n",
        "atr2 = tabl[:,1].astype('float');\n",
        "atr3 = tabl[:,2].astype('float');\n",
        "atr4 = tabl[:,3].astype('float');"
      ],
      "id": "1ASP055KhpmD",
      "execution_count": 41,
      "outputs": []
    },
    {
      "cell_type": "code",
      "metadata": {
        "id": "Kinz-fDzh9Xs"
      },
      "source": [
        "# строим гистограммы для каждого числового атрибута в датасете (используя цикл)"
      ],
      "id": "Kinz-fDzh9Xs",
      "execution_count": 42,
      "outputs": []
    },
    {
      "cell_type": "code",
      "metadata": {
        "colab": {
          "base_uri": "https://localhost:8080/",
          "height": 298
        },
        "id": "6ZOpJOhL4KOQ",
        "outputId": "6360584d-ea3d-48fb-dc30-d95348905d32"
      },
      "source": [
        "atr_all = [atr1, atr2, atr3, atr4]\n",
        "atr_all_name = ['atr1', 'atr2', 'atr3', 'atr4']\n",
        "fig , ax = plt.subplots(nrows = 1, ncols = 4, figsize=(16,4))\n",
        "\n",
        "for i in range(4):\n",
        "    ax[i].hist(atr_all[i])\n",
        "    ax[i].set_title(atr_all_name[i])\n",
        "plt.show\n",
        "\n"
      ],
      "id": "6ZOpJOhL4KOQ",
      "execution_count": 43,
      "outputs": [
        {
          "output_type": "execute_result",
          "data": {
            "text/plain": [
              "<function matplotlib.pyplot.show>"
            ]
          },
          "metadata": {},
          "execution_count": 43
        },
        {
          "output_type": "display_data",
          "data": {
            "image/png": "[encoded data removed]",
            "text/plain": [
              "<Figure size 1152x288 with 4 Axes>"
            ]
          },
          "metadata": {
            "needs_background": "light"
          }
        }
      ]
    },
    {
      "cell_type": "code",
      "metadata": {
        "id": "d6758c35"
      },
      "source": [
        "# Группируем датасет по категории"
      ],
      "id": "d6758c35",
      "execution_count": 44,
      "outputs": []
    },
    {
      "cell_type": "code",
      "metadata": {
        "id": "5b1810b8"
      },
      "source": [
        "grp_col = tabl[:,5]"
      ],
      "id": "5b1810b8",
      "execution_count": 45,
      "outputs": []
    },
    {
      "cell_type": "code",
      "metadata": {
        "id": "3ac1d93d"
      },
      "source": [
        "grp0 = tabl[np.where(grp_col == '0')] # датасет, сгруппированный по категории '0'"
      ],
      "id": "3ac1d93d",
      "execution_count": 46,
      "outputs": []
    },
    {
      "cell_type": "code",
      "metadata": {
        "id": "10c17314"
      },
      "source": [
        "grp1 = tabl[np.where(grp_col == '1')] # датасет, сгруппированный по категории '1'"
      ],
      "id": "10c17314",
      "execution_count": 47,
      "outputs": []
    },
    {
      "cell_type": "code",
      "metadata": {
        "id": "287bd32a"
      },
      "source": [
        "grp2 = tabl[np.where(grp_col == '2')] # датасет, сгруппированный по категории '2'"
      ],
      "id": "287bd32a",
      "execution_count": 48,
      "outputs": []
    },
    {
      "cell_type": "code",
      "metadata": {
        "id": "0cc02a69"
      },
      "source": [
        "# вычисляем простейшие статистики: min, max, median, mean, 0.25-percentile, 0.75-percentile по  категории '0'"
      ],
      "id": "0cc02a69",
      "execution_count": 49,
      "outputs": []
    },
    {
      "cell_type": "code",
      "metadata": {
        "id": "e5d4dea7",
        "colab": {
          "base_uri": "https://localhost:8080/"
        },
        "outputId": "f9b2a33d-9238-472c-ffde-5605e3a3e66c"
      },
      "source": [
        "atr_gr0 = grp0[:,0:4].astype('float') #только столбцы с числовыми характеристиками в категории '0'\n",
        "atr_gr0.min(axis = 0) #вычисляем минимумы по всем столбцам"
      ],
      "id": "e5d4dea7",
      "execution_count": 50,
      "outputs": [
        {
          "output_type": "execute_result",
          "data": {
            "text/plain": [
              "array([4.3, 2.3, 1. , 0.1])"
            ]
          },
          "metadata": {},
          "execution_count": 50
        }
      ]
    },
    {
      "cell_type": "code",
      "metadata": {
        "id": "fa7a25f0",
        "colab": {
          "base_uri": "https://localhost:8080/"
        },
        "outputId": "872fd831-ceb8-49a7-bf77-26dde0737246"
      },
      "source": [
        "atr_gr0.max(axis = 0) #вычисляем максимумы по всем столбцам"
      ],
      "id": "fa7a25f0",
      "execution_count": 51,
      "outputs": [
        {
          "output_type": "execute_result",
          "data": {
            "text/plain": [
              "array([5.8, 4.4, 1.9, 0.6])"
            ]
          },
          "metadata": {},
          "execution_count": 51
        }
      ]
    },
    {
      "cell_type": "code",
      "metadata": {
        "id": "005cc964",
        "colab": {
          "base_uri": "https://localhost:8080/"
        },
        "outputId": "868cab6b-3e42-4f52-abaa-2ad5b2f4f13f"
      },
      "source": [
        "atr_gr0.mean(axis = 0) #вычисляем среднее по всем столбцам"
      ],
      "id": "005cc964",
      "execution_count": 52,
      "outputs": [
        {
          "output_type": "execute_result",
          "data": {
            "text/plain": [
              "array([5.006, 3.418, 1.464, 0.244])"
            ]
          },
          "metadata": {},
          "execution_count": 52
        }
      ]
    },
    {
      "cell_type": "code",
      "metadata": {
        "id": "d7e45ad7",
        "colab": {
          "base_uri": "https://localhost:8080/"
        },
        "outputId": "2cbfa2b6-4734-4fc3-a87e-e61028dc2b3c"
      },
      "source": [
        "np.percentile(atr_gr0, 25, axis = 0) #вычисляем персентиль -25 по всем столбцам"
      ],
      "id": "d7e45ad7",
      "execution_count": 53,
      "outputs": [
        {
          "output_type": "execute_result",
          "data": {
            "text/plain": [
              "array([4.8  , 3.125, 1.4  , 0.2  ])"
            ]
          },
          "metadata": {},
          "execution_count": 53
        }
      ]
    },
    {
      "cell_type": "code",
      "metadata": {
        "id": "1f23ce41",
        "colab": {
          "base_uri": "https://localhost:8080/"
        },
        "outputId": "4c9c19e7-014e-46dc-8517-1114cf1be052"
      },
      "source": [
        "np.percentile(atr_gr0, 75, axis = 0) #вычисляем персентиль -75 по всем столбцам"
      ],
      "id": "1f23ce41",
      "execution_count": 54,
      "outputs": [
        {
          "output_type": "execute_result",
          "data": {
            "text/plain": [
              "array([5.2  , 3.675, 1.575, 0.3  ])"
            ]
          },
          "metadata": {},
          "execution_count": 54
        }
      ]
    },
    {
      "cell_type": "code",
      "metadata": {
        "id": "c6f5552c"
      },
      "source": [
        "# строим гистограммы для каждого числового атрибута в датасете по категории '0'"
      ],
      "id": "c6f5552c",
      "execution_count": 55,
      "outputs": []
    },
    {
      "cell_type": "code",
      "metadata": {
        "id": "tQRRgnHwEasa"
      },
      "source": [
        "atr_gr01 = grp0[:,0].astype('float') #выделяем каждый числовой атрибут в категории '0'\n",
        "atr_gr02 = grp0[:,1].astype('float')\n",
        "atr_gr03 = grp0[:,2].astype('float')\n",
        "atr_gr04 = grp0[:,3].astype('float')\n"
      ],
      "id": "tQRRgnHwEasa",
      "execution_count": 56,
      "outputs": []
    },
    {
      "cell_type": "code",
      "metadata": {
        "colab": {
          "base_uri": "https://localhost:8080/",
          "height": 298
        },
        "id": "FXKchVXWFE7V",
        "outputId": "324ded01-51ba-4041-eb1b-16fa3a8c1529"
      },
      "source": [
        "atr_all_0 = [atr_gr01, atr_gr02, atr_gr03, atr_gr04] \n",
        "atr_all_0_name = ['atr_gr01', 'atr_gr02', 'atr_gr03', 'atr_gr04']\n",
        "fig , ax = plt.subplots(nrows = 1, ncols = 4, figsize=(16,4))\n",
        "\n",
        "for i in range(4): #запускаем цикл построения диаграмм для категории '0'\n",
        "    ax[i].hist(atr_all_0[i])\n",
        "    ax[i].set_title(atr_all_0_name[i])\n",
        "plt.show\n"
      ],
      "id": "FXKchVXWFE7V",
      "execution_count": 57,
      "outputs": [
        {
          "output_type": "execute_result",
          "data": {
            "text/plain": [
              "<function matplotlib.pyplot.show>"
            ]
          },
          "metadata": {},
          "execution_count": 57
        },
        {
          "output_type": "display_data",
          "data": {
            "image/png": "[encoded data removed]",
            "text/plain": [
              "<Figure size 1152x288 with 4 Axes>"
            ]
          },
          "metadata": {
            "needs_background": "light"
          }
        }
      ]
    },
    {
      "cell_type": "code",
      "metadata": {
        "id": "70fe8c9b"
      },
      "source": [
        "# вычисляем простейшие статистики: min, max, median, mean, 0.25-percentile, 0.75-percentile по  категории '1'"
      ],
      "id": "70fe8c9b",
      "execution_count": 58,
      "outputs": []
    },
    {
      "cell_type": "code",
      "metadata": {
        "id": "7b690def",
        "colab": {
          "base_uri": "https://localhost:8080/"
        },
        "outputId": "bce51ed5-2683-41b0-a87f-e41ca9431461"
      },
      "source": [
        "atr_gr1 = grp1[:,0:4].astype('float') #только столбцы с числовыми характеристиками в категории '1'\n",
        "atr_gr1.min(axis = 0) #вычисляем минимумы по всем столбцам"
      ],
      "id": "7b690def",
      "execution_count": 59,
      "outputs": [
        {
          "output_type": "execute_result",
          "data": {
            "text/plain": [
              "array([4.9, 2. , 3. , 1. ])"
            ]
          },
          "metadata": {},
          "execution_count": 59
        }
      ]
    },
    {
      "cell_type": "code",
      "metadata": {
        "id": "4b540298",
        "colab": {
          "base_uri": "https://localhost:8080/"
        },
        "outputId": "db7e8862-1ff2-4394-f69c-88600b709171"
      },
      "source": [
        "atr_gr1.max(axis = 0) #вычисляем максимумы по всем столбцам"
      ],
      "id": "4b540298",
      "execution_count": 60,
      "outputs": [
        {
          "output_type": "execute_result",
          "data": {
            "text/plain": [
              "array([7. , 3.4, 5.1, 1.8])"
            ]
          },
          "metadata": {},
          "execution_count": 60
        }
      ]
    },
    {
      "cell_type": "code",
      "metadata": {
        "id": "6bcd98ca",
        "colab": {
          "base_uri": "https://localhost:8080/"
        },
        "outputId": "4943a055-ddf1-4e48-f1dd-8ab620d7437b"
      },
      "source": [
        "atr_gr1.mean(axis = 0) #вычисляем среднее по всем столбцам"
      ],
      "id": "6bcd98ca",
      "execution_count": 61,
      "outputs": [
        {
          "output_type": "execute_result",
          "data": {
            "text/plain": [
              "array([5.936, 2.77 , 4.26 , 1.326])"
            ]
          },
          "metadata": {},
          "execution_count": 61
        }
      ]
    },
    {
      "cell_type": "code",
      "metadata": {
        "id": "7440ee5c",
        "colab": {
          "base_uri": "https://localhost:8080/"
        },
        "outputId": "6c1a6548-1037-4167-9d2a-f6eab8321b76"
      },
      "source": [
        "np.percentile(atr_gr1, 25, axis = 0) #вычисляем персентиль -25 по всем столбцам"
      ],
      "id": "7440ee5c",
      "execution_count": 62,
      "outputs": [
        {
          "output_type": "execute_result",
          "data": {
            "text/plain": [
              "array([5.6  , 2.525, 4.   , 1.2  ])"
            ]
          },
          "metadata": {},
          "execution_count": 62
        }
      ]
    },
    {
      "cell_type": "code",
      "metadata": {
        "id": "71fa2590",
        "colab": {
          "base_uri": "https://localhost:8080/"
        },
        "outputId": "ea5769c8-f71b-457e-e6ca-39d5a562e584"
      },
      "source": [
        "np.percentile(atr_gr1, 75, axis = 0) #вычисляем персентиль -75 по всем столбцам"
      ],
      "id": "71fa2590",
      "execution_count": 63,
      "outputs": [
        {
          "output_type": "execute_result",
          "data": {
            "text/plain": [
              "array([6.3, 3. , 4.6, 1.5])"
            ]
          },
          "metadata": {},
          "execution_count": 63
        }
      ]
    },
    {
      "cell_type": "code",
      "metadata": {
        "id": "a215c29f"
      },
      "source": [
        "# строим гистограммы для каждого числового атрибута в датасете по категории '1'"
      ],
      "id": "a215c29f",
      "execution_count": 64,
      "outputs": []
    },
    {
      "cell_type": "code",
      "metadata": {
        "id": "q_FEl3ANF5Fs"
      },
      "source": [
        "atr_gr11 = grp1[:,0].astype('float') #выделяем каждый числовой атрибут в категории '1'\n",
        "atr_gr12 = grp1[:,1].astype('float') \n",
        "atr_gr13 = grp1[:,2].astype('float')\n",
        "atr_gr14 = grp1[:,3].astype('float')\n"
      ],
      "id": "q_FEl3ANF5Fs",
      "execution_count": 65,
      "outputs": []
    },
    {
      "cell_type": "code",
      "metadata": {
        "colab": {
          "base_uri": "https://localhost:8080/",
          "height": 298
        },
        "id": "xN0RwUNsF5y4",
        "outputId": "a40c578e-f780-4564-bfbc-2e8567d805e3"
      },
      "source": [
        "atr_all_1 = [atr_gr11, atr_gr12, atr_gr13, atr_gr14] \n",
        "atr_all_1_name = ['atr_gr11', 'atr_gr12', 'atr_gr13', 'atr_gr14']\n",
        "fig , ax = plt.subplots(nrows = 1, ncols = 4, figsize=(16,4))\n",
        "\n",
        "for i in range(4): #запускаем цикл построения диаграмм для категории '1'\n",
        "    ax[i].hist(atr_all_1[i])\n",
        "    ax[i].set_title(atr_all_1_name[i])\n",
        "plt.show"
      ],
      "id": "xN0RwUNsF5y4",
      "execution_count": 66,
      "outputs": [
        {
          "output_type": "execute_result",
          "data": {
            "text/plain": [
              "<function matplotlib.pyplot.show>"
            ]
          },
          "metadata": {},
          "execution_count": 66
        },
        {
          "output_type": "display_data",
          "data": {
            "image/png": "[encoded data removed]",
            "text/plain": [
              "<Figure size 1152x288 with 4 Axes>"
            ]
          },
          "metadata": {
            "needs_background": "light"
          }
        }
      ]
    },
    {
      "cell_type": "code",
      "metadata": {
        "id": "4cd0bea2"
      },
      "source": [
        "# вычисляем простейшие статистики: min, max, median, mean, 0.25-percentile, 0.75-percentile по  категории '2'"
      ],
      "id": "4cd0bea2",
      "execution_count": 67,
      "outputs": []
    },
    {
      "cell_type": "code",
      "metadata": {
        "id": "6cfaa11c",
        "colab": {
          "base_uri": "https://localhost:8080/"
        },
        "outputId": "103488bc-bbae-437a-8a6c-baac2c546300"
      },
      "source": [
        "atr_gr2 = grp2[:,0:4].astype('float') #только столбцы с числовыми характеристиками в категории '1'\n",
        "atr_gr2.min(axis = 0) #вычисляем минимумы по всем столбцам"
      ],
      "id": "6cfaa11c",
      "execution_count": 68,
      "outputs": [
        {
          "output_type": "execute_result",
          "data": {
            "text/plain": [
              "array([4.9, 2.2, 4.5, 1.4])"
            ]
          },
          "metadata": {},
          "execution_count": 68
        }
      ]
    },
    {
      "cell_type": "code",
      "metadata": {
        "id": "53ebbc7c",
        "colab": {
          "base_uri": "https://localhost:8080/"
        },
        "outputId": "3259733e-0484-4970-e182-ae6a6bbb0eb4"
      },
      "source": [
        "atr_gr2.max(axis = 0) #вычисляем максимумы по всем столбцам"
      ],
      "id": "53ebbc7c",
      "execution_count": 69,
      "outputs": [
        {
          "output_type": "execute_result",
          "data": {
            "text/plain": [
              "array([7.9, 3.8, 6.9, 2.5])"
            ]
          },
          "metadata": {},
          "execution_count": 69
        }
      ]
    },
    {
      "cell_type": "code",
      "metadata": {
        "id": "6d48ff88",
        "colab": {
          "base_uri": "https://localhost:8080/"
        },
        "outputId": "f432ef80-bcb7-42a4-cf58-88c480fea492"
      },
      "source": [
        "atr_gr2.mean(axis = 0) #вычисляем среднее по всем столбцам"
      ],
      "id": "6d48ff88",
      "execution_count": 70,
      "outputs": [
        {
          "output_type": "execute_result",
          "data": {
            "text/plain": [
              "array([6.588, 2.974, 5.552, 2.026])"
            ]
          },
          "metadata": {},
          "execution_count": 70
        }
      ]
    },
    {
      "cell_type": "code",
      "metadata": {
        "id": "840b313e",
        "colab": {
          "base_uri": "https://localhost:8080/"
        },
        "outputId": "29c1e208-00cb-46ad-bd92-d1d46c353d13"
      },
      "source": [
        "np.percentile(atr_gr2, 25, axis = 0) #вычисляем персентиль -25 по всем столбцам"
      ],
      "id": "840b313e",
      "execution_count": 71,
      "outputs": [
        {
          "output_type": "execute_result",
          "data": {
            "text/plain": [
              "array([6.225, 2.8  , 5.1  , 1.8  ])"
            ]
          },
          "metadata": {},
          "execution_count": 71
        }
      ]
    },
    {
      "cell_type": "code",
      "metadata": {
        "id": "78537c7e",
        "colab": {
          "base_uri": "https://localhost:8080/"
        },
        "outputId": "e1301305-739e-4b38-f4af-7caa56e8133a"
      },
      "source": [
        "np.percentile(atr_gr2, 75, axis = 0) #вычисляем персентиль -75 по всем столбцам"
      ],
      "id": "78537c7e",
      "execution_count": 72,
      "outputs": [
        {
          "output_type": "execute_result",
          "data": {
            "text/plain": [
              "array([6.9  , 3.175, 5.875, 2.3  ])"
            ]
          },
          "metadata": {},
          "execution_count": 72
        }
      ]
    },
    {
      "cell_type": "code",
      "metadata": {
        "id": "2b27d62a"
      },
      "source": [
        "# строим гистограммы для каждого числового атрибута в датасете по категории '2'"
      ],
      "id": "2b27d62a",
      "execution_count": 73,
      "outputs": []
    },
    {
      "cell_type": "code",
      "metadata": {
        "id": "5H2CG1u7Gzwj"
      },
      "source": [
        "atr_gr21 = grp2[:,0].astype('float') #выделяем каждый числовой атрибут в категории '2'\n",
        "atr_gr22 = grp2[:,1].astype('float') \n",
        "atr_gr23 = grp2[:,2].astype('float')\n",
        "atr_gr24 = grp2[:,3].astype('float')"
      ],
      "id": "5H2CG1u7Gzwj",
      "execution_count": 74,
      "outputs": []
    },
    {
      "cell_type": "code",
      "metadata": {
        "colab": {
          "base_uri": "https://localhost:8080/",
          "height": 298
        },
        "id": "vwha87xLGz35",
        "outputId": "391d3f99-adf9-4ed1-c0c4-3695a992250b"
      },
      "source": [
        "atr_all_2 = [atr_gr21, atr_gr22, atr_gr23, atr_gr24] \n",
        "atr_all_2_name = ['atr_gr21', 'atr_gr22', 'atr_gr23', 'atr_gr24']\n",
        "fig , ax = plt.subplots(nrows = 1, ncols = 4, figsize=(16,4))\n",
        "\n",
        "for i in range(4): #запускаем цикл построения диаграмм для категории '2'\n",
        "    ax[i].hist(atr_all_2[i])\n",
        "    ax[i].set_title(atr_all_2_name[i])\n",
        "plt.show"
      ],
      "id": "vwha87xLGz35",
      "execution_count": 75,
      "outputs": [
        {
          "output_type": "execute_result",
          "data": {
            "text/plain": [
              "<function matplotlib.pyplot.show>"
            ]
          },
          "metadata": {},
          "execution_count": 75
        },
        {
          "output_type": "display_data",
          "data": {
            "image/png": "[encoded data removed]",
            "text/plain": [
              "<Figure size 1152x288 with 4 Axes>"
            ]
          },
          "metadata": {
            "needs_background": "light"
          }
        }
      ]
    },
    {
      "cell_type": "code",
      "metadata": {
        "id": "4db7f1bf"
      },
      "source": [
        ""
      ],
      "id": "4db7f1bf",
      "execution_count": 75,
      "outputs": []
    }
  ]
}